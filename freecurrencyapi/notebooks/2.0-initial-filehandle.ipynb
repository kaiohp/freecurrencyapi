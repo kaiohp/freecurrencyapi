{
 "cells": [
  {
   "cell_type": "code",
   "execution_count": null,
   "metadata": {},
   "outputs": [],
   "source": [
    "import os\n",
    "from dotenv import load_dotenv, find_dotenv\n",
    "from pathlib import Path\n",
    "from datetime import datetime\n",
    "import json"
   ]
  },
  {
   "cell_type": "code",
   "execution_count": null,
   "metadata": {},
   "outputs": [],
   "source": [
    "class FileHandler:\n",
    "    \"\"\"\n",
    "    The Great docs here\n",
    "    \"\"\"\n",
    "    def __init__(self, local=\"../data/raw\", file_name=\"apidata\"):\n",
    "\n",
    "        self.run_datetime = datetime.now().date().isoformat()\n",
    "        self.local = Path(local)\n",
    "        self.file_name = f\"{file_name}_{self.run_datetime}.json\"\n",
    "        self.full_path = Path(self.local, self.file_name)\n",
    "        load_dotenv(find_dotenv())\n",
    "        self._GCLOUD = os.getenv(\"GCLOUD\")\n",
    "\n",
    "    def save_json(self, data):\n",
    "        path_resolved = self.full_path.resolve()\n",
    "        with path_resolved.open(mode='w') as file:\n",
    "            json.dump(data, file, indent=4)"
   ]
  },
  {
   "cell_type": "code",
   "execution_count": null,
   "metadata": {},
   "outputs": [],
   "source": [
    "test_data = {'data': {'AUD': 0.3043981302, 'BGN': 0.3646888051, 'BRL': 1, 'CAD': 0.2733589647, 'CHF': 0.1769375573, 'CNY': 1.4549697995, 'CZK': 4.5723368794, 'DKK': 1.3925159238, 'EUR': 0.1867798862, 'GBP': 0.1613016566, 'HKD': 1.5904503456, 'HRK': 1.4326485004, 'HUF': 71.7406895277, 'IDR': 3159.561128513, 'ILS': 0.7477460299, 'INR': 16.9523208283, 'ISK': 28.1503685595, 'JPY': 29.1126922288, 'KRW': 265.6686924622, 'MXN': 3.5021489336, 'MYR': 0.9570880499, 'NOK': 2.12097108, 'NZD': 0.3283478806, 'PHP': 11.3894469181, 'PLN': 0.8071367464, 'RON': 0.928628258, 'RUB': 18.448394697, 'SEK': 2.0840975766, 'SGD': 0.2717957932, 'THB': 7.1316299928, 'TRY': 5.9253041877, 'USD': 0.2040707788, 'ZAR': 3.7928151735}}\n",
    "print(type(test_data))\n",
    "print(test_data)\n"
   ]
  },
  {
   "cell_type": "code",
   "execution_count": null,
   "metadata": {},
   "outputs": [],
   "source": [
    "file_explore = FileHandler(local=\"..tests/data\", file_name=\"test_api_data\")\n",
    "print(file_explore.local)\n",
    "print(file_explore.file_name)\n",
    "print(file_explore._GCLOUD)\n",
    "print(file_explore.full_path)\n",
    "print(file_explore.full_path.resolve())"
   ]
  },
  {
   "cell_type": "code",
   "execution_count": null,
   "metadata": {},
   "outputs": [],
   "source": [
    "file_explore.save_json(test_data)"
   ]
  }
 ],
 "metadata": {
  "kernelspec": {
   "display_name": "freecurrencyapi-venv",
   "language": "python",
   "name": "python3"
  },
  "language_info": {
   "codemirror_mode": {
    "name": "ipython",
    "version": 3
   },
   "file_extension": ".py",
   "mimetype": "text/x-python",
   "name": "python",
   "nbconvert_exporter": "python",
   "pygments_lexer": "ipython3",
   "version": "3.12.0"
  }
 },
 "nbformat": 4,
 "nbformat_minor": 2
}
