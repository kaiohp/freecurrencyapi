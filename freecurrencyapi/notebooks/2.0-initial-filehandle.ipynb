{
 "cells": [
  {
   "cell_type": "code",
   "execution_count": 25,
   "metadata": {},
   "outputs": [],
   "source": [
    "import os\n",
    "from dotenv import load_dotenv, find_dotenv\n",
    "from pathlib import Path\n",
    "from datetime import datetime\n",
    "import json"
   ]
  },
  {
   "cell_type": "code",
   "execution_count": 26,
   "metadata": {},
   "outputs": [],
   "source": [
    "class FileHandler:\n",
    "    \"\"\"\n",
    "    The Great docs here\n",
    "    \"\"\"\n",
    "    def __init__(self, local=\"../data/raw\", file_name=\"apidata\"):\n",
    "\n",
    "        self.run_datetime = datetime.now().date().isoformat()\n",
    "        self.local = Path(local)\n",
    "        self.file_name = f\"{file_name}_{self.run_datetime}.json\"\n",
    "        self.full_path = Path(self.local, self.file_name)\n",
    "        load_dotenv(find_dotenv())\n",
    "        self._GCLOUD = os.getenv(\"GCLOUD\")\n",
    "\n",
    "    def save_json(self, data):\n",
    "        path_resolved = self.full_path.resolve()\n",
    "        with path_resolved.open(mode='w') as file:\n",
    "            json.dump(data, file, indent=4)"
   ]
  },
  {
   "cell_type": "code",
   "execution_count": 27,
   "metadata": {},
   "outputs": [
    {
     "name": "stdout",
     "output_type": "stream",
     "text": [
      "<class 'dict'>\n",
      "{'data': {'AUD': 0.3043981302, 'BGN': 0.3646888051, 'BRL': 1, 'CAD': 0.2733589647, 'CHF': 0.1769375573, 'CNY': 1.4549697995, 'CZK': 4.5723368794, 'DKK': 1.3925159238, 'EUR': 0.1867798862, 'GBP': 0.1613016566, 'HKD': 1.5904503456, 'HRK': 1.4326485004, 'HUF': 71.7406895277, 'IDR': 3159.561128513, 'ILS': 0.7477460299, 'INR': 16.9523208283, 'ISK': 28.1503685595, 'JPY': 29.1126922288, 'KRW': 265.6686924622, 'MXN': 3.5021489336, 'MYR': 0.9570880499, 'NOK': 2.12097108, 'NZD': 0.3283478806, 'PHP': 11.3894469181, 'PLN': 0.8071367464, 'RON': 0.928628258, 'RUB': 18.448394697, 'SEK': 2.0840975766, 'SGD': 0.2717957932, 'THB': 7.1316299928, 'TRY': 5.9253041877, 'USD': 0.2040707788, 'ZAR': 3.7928151735}}\n"
     ]
    }
   ],
   "source": [
    "test_data = {'data': {'AUD': 0.3043981302, 'BGN': 0.3646888051, 'BRL': 1, 'CAD': 0.2733589647, 'CHF': 0.1769375573, 'CNY': 1.4549697995, 'CZK': 4.5723368794, 'DKK': 1.3925159238, 'EUR': 0.1867798862, 'GBP': 0.1613016566, 'HKD': 1.5904503456, 'HRK': 1.4326485004, 'HUF': 71.7406895277, 'IDR': 3159.561128513, 'ILS': 0.7477460299, 'INR': 16.9523208283, 'ISK': 28.1503685595, 'JPY': 29.1126922288, 'KRW': 265.6686924622, 'MXN': 3.5021489336, 'MYR': 0.9570880499, 'NOK': 2.12097108, 'NZD': 0.3283478806, 'PHP': 11.3894469181, 'PLN': 0.8071367464, 'RON': 0.928628258, 'RUB': 18.448394697, 'SEK': 2.0840975766, 'SGD': 0.2717957932, 'THB': 7.1316299928, 'TRY': 5.9253041877, 'USD': 0.2040707788, 'ZAR': 3.7928151735}}\n",
    "print(type(test_data))\n",
    "print(test_data)\n"
   ]
  },
  {
   "cell_type": "code",
   "execution_count": 28,
   "metadata": {},
   "outputs": [
    {
     "name": "stdout",
     "output_type": "stream",
     "text": [
      "tests\\data\n",
      "test_api_data_2023-12-19.json\n",
      "False\n",
      "tests\\data\\test_api_data_2023-12-19.json\n",
      "C:\\Users\\kaioh\\OneDrive\\Documentos\\Cursos\\Apoena Labs\\Projects\\FreeCurrencyAPI\\freecurrencyapi\\notebooks\\tests\\data\\test_api_data_2023-12-19.json\n"
     ]
    }
   ],
   "source": [
    "file_explore = FileHandler(local=\"..tests/data\", file_name=\"test_api_data\")\n",
    "print(file_explore.local)\n",
    "print(file_explore.file_name)\n",
    "print(file_explore._GCLOUD)\n",
    "print(file_explore.full_path)\n",
    "print(file_explore.full_path.resolve())"
   ]
  },
  {
   "cell_type": "code",
   "execution_count": 29,
   "metadata": {},
   "outputs": [
    {
     "ename": "FileNotFoundError",
     "evalue": "[Errno 2] No such file or directory: 'C:\\\\Users\\\\kaioh\\\\OneDrive\\\\Documentos\\\\Cursos\\\\Apoena Labs\\\\Projects\\\\FreeCurrencyAPI\\\\freecurrencyapi\\\\notebooks\\\\tests\\\\data\\\\test_api_data_2023-12-19.json'",
     "output_type": "error",
     "traceback": [
      "\u001b[1;31m---------------------------------------------------------------------------\u001b[0m",
      "\u001b[1;31mFileNotFoundError\u001b[0m                         Traceback (most recent call last)",
      "Cell \u001b[1;32mIn[29], line 1\u001b[0m\n\u001b[1;32m----> 1\u001b[0m \u001b[43mfile_explore\u001b[49m\u001b[38;5;241;43m.\u001b[39;49m\u001b[43msave_json\u001b[49m\u001b[43m(\u001b[49m\u001b[43mtest_data\u001b[49m\u001b[43m)\u001b[49m\n",
      "Cell \u001b[1;32mIn[26], line 16\u001b[0m, in \u001b[0;36mFileHandler.save_json\u001b[1;34m(self, data)\u001b[0m\n\u001b[0;32m     14\u001b[0m \u001b[38;5;28;01mdef\u001b[39;00m \u001b[38;5;21msave_json\u001b[39m(\u001b[38;5;28mself\u001b[39m, data):\n\u001b[0;32m     15\u001b[0m     path_resolved \u001b[38;5;241m=\u001b[39m \u001b[38;5;28mself\u001b[39m\u001b[38;5;241m.\u001b[39mfull_path\u001b[38;5;241m.\u001b[39mresolve()\n\u001b[1;32m---> 16\u001b[0m     \u001b[38;5;28;01mwith\u001b[39;00m \u001b[43mpath_resolved\u001b[49m\u001b[38;5;241;43m.\u001b[39;49m\u001b[43mopen\u001b[49m\u001b[43m(\u001b[49m\u001b[43mmode\u001b[49m\u001b[38;5;241;43m=\u001b[39;49m\u001b[38;5;124;43m'\u001b[39;49m\u001b[38;5;124;43mw\u001b[39;49m\u001b[38;5;124;43m'\u001b[39;49m\u001b[43m)\u001b[49m \u001b[38;5;28;01mas\u001b[39;00m file:\n\u001b[0;32m     17\u001b[0m         json\u001b[38;5;241m.\u001b[39mdump(data, file, indent\u001b[38;5;241m=\u001b[39m\u001b[38;5;241m4\u001b[39m)\n",
      "File \u001b[1;32m~\\AppData\\Local\\Programs\\Python\\Python312\\Lib\\pathlib.py:1014\u001b[0m, in \u001b[0;36mPath.open\u001b[1;34m(self, mode, buffering, encoding, errors, newline)\u001b[0m\n\u001b[0;32m   1012\u001b[0m \u001b[38;5;28;01mif\u001b[39;00m \u001b[38;5;124m\"\u001b[39m\u001b[38;5;124mb\u001b[39m\u001b[38;5;124m\"\u001b[39m \u001b[38;5;129;01mnot\u001b[39;00m \u001b[38;5;129;01min\u001b[39;00m mode:\n\u001b[0;32m   1013\u001b[0m     encoding \u001b[38;5;241m=\u001b[39m io\u001b[38;5;241m.\u001b[39mtext_encoding(encoding)\n\u001b[1;32m-> 1014\u001b[0m \u001b[38;5;28;01mreturn\u001b[39;00m \u001b[43mio\u001b[49m\u001b[38;5;241;43m.\u001b[39;49m\u001b[43mopen\u001b[49m\u001b[43m(\u001b[49m\u001b[38;5;28;43mself\u001b[39;49m\u001b[43m,\u001b[49m\u001b[43m \u001b[49m\u001b[43mmode\u001b[49m\u001b[43m,\u001b[49m\u001b[43m \u001b[49m\u001b[43mbuffering\u001b[49m\u001b[43m,\u001b[49m\u001b[43m \u001b[49m\u001b[43mencoding\u001b[49m\u001b[43m,\u001b[49m\u001b[43m \u001b[49m\u001b[43merrors\u001b[49m\u001b[43m,\u001b[49m\u001b[43m \u001b[49m\u001b[43mnewline\u001b[49m\u001b[43m)\u001b[49m\n",
      "\u001b[1;31mFileNotFoundError\u001b[0m: [Errno 2] No such file or directory: 'C:\\\\Users\\\\kaioh\\\\OneDrive\\\\Documentos\\\\Cursos\\\\Apoena Labs\\\\Projects\\\\FreeCurrencyAPI\\\\freecurrencyapi\\\\notebooks\\\\tests\\\\data\\\\test_api_data_2023-12-19.json'"
     ]
    }
   ],
   "source": [
    "file_explore.save_json(test_data)"
   ]
  }
 ],
 "metadata": {
  "kernelspec": {
   "display_name": "freecurrencyapi-venv",
   "language": "python",
   "name": "python3"
  },
  "language_info": {
   "codemirror_mode": {
    "name": "ipython",
    "version": 3
   },
   "file_extension": ".py",
   "mimetype": "text/x-python",
   "name": "python",
   "nbconvert_exporter": "python",
   "pygments_lexer": "ipython3",
   "version": "3.12.0"
  }
 },
 "nbformat": 4,
 "nbformat_minor": 2
}
