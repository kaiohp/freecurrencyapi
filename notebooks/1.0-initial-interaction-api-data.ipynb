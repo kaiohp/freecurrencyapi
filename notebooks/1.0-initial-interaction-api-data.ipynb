{
 "cells": [
  {
   "cell_type": "code",
   "execution_count": 9,
   "metadata": {},
   "outputs": [],
   "source": [
    "import requests\n",
    "import os\n",
    "from dotenv import load_dotenv, find_dotenv"
   ]
  },
  {
   "cell_type": "code",
   "execution_count": 10,
   "metadata": {},
   "outputs": [],
   "source": [
    "base_currency = \"BRL\"\n",
    "base_url = \"https://api.freecurrencyapi.com\"\n",
    "dotenv_path = find_dotenv()\n",
    "load_dotenv(dotenv_path )\n",
    "apikey = os.getenv(\"API_TOKEN\", None)"
   ]
  },
  {
   "cell_type": "code",
   "execution_count": 12,
   "metadata": {},
   "outputs": [],
   "source": [
    "endpoint = \"/v1/latest\"\n",
    "request_url = base_url + endpoint\n",
    "params = {\"base_currency\": base_currency}"
   ]
  },
  {
   "cell_type": "code",
   "execution_count": 13,
   "metadata": {},
   "outputs": [],
   "source": [
    "with requests.session() as session:\n",
    "    session.headers.update({\"apikey\": apikey})\n",
    "    response = session.get(\n",
    "        request_url,\n",
    "        params=params\n",
    "    )\n",
    "    if response.status_code == 200:\n",
    "        apidata = response.json\n",
    "    else:\n",
    "        raise Exception(response.status_code)"
   ]
  },
  {
   "cell_type": "code",
   "execution_count": 16,
   "metadata": {},
   "outputs": [
    {
     "data": {
      "text/plain": [
       "<bound method Response.json of <Response [200]>>"
      ]
     },
     "execution_count": 16,
     "metadata": {},
     "output_type": "execute_result"
    }
   ],
   "source": [
    "apidata"
   ]
  }
 ],
 "metadata": {
  "kernelspec": {
   "display_name": "freecurrencyapi-venv",
   "language": "python",
   "name": "python3"
  },
  "language_info": {
   "codemirror_mode": {
    "name": "ipython",
    "version": 3
   },
   "file_extension": ".py",
   "mimetype": "text/x-python",
   "name": "python",
   "nbconvert_exporter": "python",
   "pygments_lexer": "ipython3",
   "version": "3.12.0"
  }
 },
 "nbformat": 4,
 "nbformat_minor": 2
}
